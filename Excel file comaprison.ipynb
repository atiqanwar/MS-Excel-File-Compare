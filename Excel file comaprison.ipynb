{
 "cells": [
  {
   "cell_type": "markdown",
   "metadata": {},
   "source": [
    "# Microsoft Excel file comparison script"
   ]
  },
  {
   "cell_type": "markdown",
   "metadata": {},
   "source": [
    "### By: Atiq Anwar"
   ]
  },
  {
   "cell_type": "markdown",
   "metadata": {},
   "source": [
    "This script is designed to compare two MS Excel file data (row by row, and column by column). This pythin script reads rows and columns of both input files and compare their values. Diffrence in values identified in both rows and columns will be notified to user at the end of the script.\n",
    "\n",
    "Dependencies:\n",
    "Python version 3.x\n",
    "Modules: Openpyxl, sys"
   ]
  },
  {
   "cell_type": "markdown",
   "metadata": {},
   "source": [
    "#### Importing modules for excel file and hashing"
   ]
  },
  {
   "cell_type": "code",
   "execution_count": 13,
   "metadata": {},
   "outputs": [],
   "source": [
    "import openpyxl\n",
    "from openpyxl.utils import get_column_letter\n",
    "import sys\n",
    "from os import stat"
   ]
  },
  {
   "cell_type": "markdown",
   "metadata": {},
   "source": [
    "#### Opening first file"
   ]
  },
  {
   "cell_type": "code",
   "execution_count": 2,
   "metadata": {},
   "outputs": [
    {
     "name": "stdout",
     "output_type": "stream",
     "text": [
      "Input first filename:example.xlsx\n"
     ]
    }
   ],
   "source": [
    "file = input(\"Input first filename:\")"
   ]
  },
  {
   "cell_type": "code",
   "execution_count": 3,
   "metadata": {},
   "outputs": [
    {
     "name": "stdout",
     "output_type": "stream",
     "text": [
      "Worksheets in  example.xlsx are: ['Sheet1', 'Sheet2', 'Sheet3']\n",
      "Enter sheet name you want to compare from:Sheet1\n"
     ]
    }
   ],
   "source": [
    "f1 = openpyxl.load_workbook(file)\n",
    "print (\"Worksheets in \", file, \"are:\", f1.sheetnames)\n",
    "sheet = input (\"Enter sheet name you want to compare from:\")"
   ]
  },
  {
   "cell_type": "code",
   "execution_count": 4,
   "metadata": {},
   "outputs": [
    {
     "name": "stdout",
     "output_type": "stream",
     "text": [
      "This sheet contains  7  rows and  3 columns.\n"
     ]
    }
   ],
   "source": [
    "s1 = f1[sheet]\n",
    "row = s1.max_row\n",
    "col = s1.max_column\n",
    "print (\"This sheet contains \", row, \" rows and \", col, \"columns.\")"
   ]
  },
  {
   "cell_type": "markdown",
   "metadata": {},
   "source": [
    "#### Opening second file"
   ]
  },
  {
   "cell_type": "code",
   "execution_count": 5,
   "metadata": {},
   "outputs": [
    {
     "name": "stdout",
     "output_type": "stream",
     "text": [
      "Input second filename:example2.xlsx\n"
     ]
    }
   ],
   "source": [
    "file = input(\"Input second filename:\")"
   ]
  },
  {
   "cell_type": "code",
   "execution_count": 6,
   "metadata": {},
   "outputs": [
    {
     "name": "stdout",
     "output_type": "stream",
     "text": [
      "Worksheets in  example2.xlsx are: ['example']\n",
      "Enter sheet name you want to compare with:example\n"
     ]
    }
   ],
   "source": [
    "f2 = openpyxl.load_workbook(file)\n",
    "print (\"Worksheets in \", file, \"are:\", f2.sheetnames)\n",
    "sheet = input (\"Enter sheet name you want to compare with:\")"
   ]
  },
  {
   "cell_type": "code",
   "execution_count": 7,
   "metadata": {},
   "outputs": [
    {
     "name": "stdout",
     "output_type": "stream",
     "text": [
      "This sheet contains  7  rows and  3 columns.\n"
     ]
    }
   ],
   "source": [
    "s2 = f2[sheet]\n",
    "print (\"This sheet contains \", s2.max_row, \" rows and \", s2.max_column, \"columns.\")"
   ]
  },
  {
   "cell_type": "markdown",
   "metadata": {},
   "source": [
    "#### Comparing worksheet structures"
   ]
  },
  {
   "cell_type": "code",
   "execution_count": 8,
   "metadata": {},
   "outputs": [],
   "source": [
    "if row != s2.max_row and col != s2.max_col:\n",
    "    print (\"Rows and columns in both worksheets are not same.\")\n",
    "    sys.exit(0)"
   ]
  },
  {
   "cell_type": "markdown",
   "metadata": {},
   "source": [
    "#### Comparing rows"
   ]
  },
  {
   "cell_type": "code",
   "execution_count": 11,
   "metadata": {},
   "outputs": [
    {
     "name": "stdout",
     "output_type": "stream",
     "text": [
      "Diffrent rows are:  [1, 2, 6, 7]\n"
     ]
    }
   ],
   "source": [
    "diffrow = []\n",
    "for r in range(1, row+1):\n",
    "    rowval = []\n",
    "    rowval2 = []\n",
    " #   print (s1[r])\n",
    "    for cell in s1[r]:\n",
    "        rowval.append(cell.value)\n",
    "    for cell in s2[r]:\n",
    "        rowval2.append(cell.value)\n",
    "    if rowval != rowval2:\n",
    "        diffrow.append(r)\n",
    "print (\"Diffrent rows are: \", diffrow)"
   ]
  },
  {
   "cell_type": "markdown",
   "metadata": {},
   "source": [
    "#### Comparing columns"
   ]
  },
  {
   "cell_type": "code",
   "execution_count": 18,
   "metadata": {},
   "outputs": [
    {
     "name": "stdout",
     "output_type": "stream",
     "text": [
      "Diffrent columns are:  ['A']\n"
     ]
    }
   ],
   "source": [
    "diffcol = []\n",
    "for c in range(1,col+1):\n",
    "    colval = []\n",
    "    colval2 = []\n",
    "    for cell in s1[get_column_letter(c)]:\n",
    "        colval.append(cell.value)\n",
    "    for cell in s2[get_column_letter(c)]:\n",
    "        colval2.append(cell.value)\n",
    "    if colval != colval2:\n",
    "        diffcol.append(get_column_letter(c))\n",
    "print (\"Diffrent columns are: \", diffcol)"
   ]
  },
  {
   "cell_type": "markdown",
   "metadata": {},
   "source": [
    "#### Printing output"
   ]
  },
  {
   "cell_type": "code",
   "execution_count": 27,
   "metadata": {},
   "outputs": [
    {
     "name": "stdout",
     "output_type": "stream",
     "text": [
      "Mismatched cell values are:\n",
      "A 1\tA 2\tA 6\tA 7\t\n"
     ]
    }
   ],
   "source": [
    "if diffcol != []:\n",
    "    print (\"Mismatched cell values are:\")\n",
    "    for c in diffcol:\n",
    "        for r in diffrow:\n",
    "            print (c.strip(), str(r).strip(), end=\"\\t\")\n",
    "        print (\"\")\n",
    "else:\n",
    "    print (\"No mismatched cell values found.\")"
   ]
  },
  {
   "cell_type": "code",
   "execution_count": null,
   "metadata": {},
   "outputs": [],
   "source": []
  }
 ],
 "metadata": {
  "kernelspec": {
   "display_name": "Python 3",
   "language": "python",
   "name": "python3"
  },
  "language_info": {
   "codemirror_mode": {
    "name": "ipython",
    "version": 3
   },
   "file_extension": ".py",
   "mimetype": "text/x-python",
   "name": "python",
   "nbconvert_exporter": "python",
   "pygments_lexer": "ipython3",
   "version": "3.7.3"
  }
 },
 "nbformat": 4,
 "nbformat_minor": 2
}
